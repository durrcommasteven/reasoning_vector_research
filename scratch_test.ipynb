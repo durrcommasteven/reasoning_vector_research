{
 "cells": [
  {
   "cell_type": "code",
   "execution_count": 1,
   "metadata": {},
   "outputs": [
    {
     "name": "stderr",
     "output_type": "stream",
     "text": [
      "/workspace/reasoning_vector_research/venv/lib/python3.10/site-packages/tqdm/auto.py:21: TqdmWarning: IProgress not found. Please update jupyter and ipywidgets. See https://ipywidgets.readthedocs.io/en/stable/user_install.html\n",
      "  from .autonotebook import tqdm as notebook_tqdm\n"
     ]
    }
   ],
   "source": [
    "from residual_stream_collection_tools import *"
   ]
  },
  {
   "cell_type": "code",
   "execution_count": 2,
   "metadata": {},
   "outputs": [
    {
     "name": "stderr",
     "output_type": "stream",
     "text": [
      "Downloading shards: 100%|██████████| 2/2 [00:31<00:00, 15.59s/it]\n",
      "Loading checkpoint shards: 100%|██████████| 2/2 [00:00<00:00,  3.46it/s]\n"
     ]
    },
    {
     "name": "stdout",
     "output_type": "stream",
     "text": [
      "Loaded pretrained model meta-llama/Llama-3.1-8B into HookedTransformer\n"
     ]
    }
   ],
   "source": [
    "model = load_llama8br1()"
   ]
  },
  {
   "cell_type": "code",
   "execution_count": null,
   "metadata": {},
   "outputs": [],
   "source": [
    "chat = [{\"role\": \"user\", \"content\": \"whats the square root of rope?\"}]\n",
    "\n",
    "# 1) THINK prefix\n",
    "think_prefix = model.tokenizer.apply_chat_template(\n",
    "    chat, add_generation_prompt=True, tokenize=False\n",
    ")"
   ]
  },
  {
   "cell_type": "code",
   "execution_count": 3,
   "metadata": {},
   "outputs": [],
   "source": [
    "prompt_list = read_prompts(output_type=None)[:4]\n"
   ]
  },
  {
   "cell_type": "code",
   "execution_count": 41,
   "metadata": {},
   "outputs": [],
   "source": []
  },
  {
   "cell_type": "code",
   "execution_count": 46,
   "metadata": {},
   "outputs": [],
   "source": []
  },
  {
   "cell_type": "code",
   "execution_count": 4,
   "metadata": {},
   "outputs": [
    {
     "name": "stderr",
     "output_type": "stream",
     "text": [
      " 49%|████▉     | 245/500 [00:20<00:21, 12.03it/s]]\n",
      "All Prompts:   0%|          | 0/4 [00:20<?, ?it/s]"
     ]
    },
    {
     "name": "stdout",
     "output_type": "stream",
     "text": [
      "\n",
      "============================================================\n",
      "PROMPT [math] MODE=base\n",
      "============================================================\n",
      "I need to determine the square root of 144. To do this, I'll start by finding two numbers that multiply together to give 144. Since 12 times 12 equals 144, both the square root of the multiplier and the square root of the result are 12. Therefore, the square root of 144 is 12.\n",
      "</think>\n",
      "\n",
      "To find the **square root** of **144**, follow these easy steps:\n",
      "\n",
      "1. **Understand the Problem:**\n",
      "   \n",
      "   A square root of a number \\( x \\) is a number \\( y \\) such that:\n",
      "   \\[\n",
      "   y \\times y = x\n",
      "   \\]\n",
      "   So, we need to find a number \\( y \\) where:\n",
      "   \\[\n",
      "   y^2 = 144\n",
      "   \\]\n",
      "\n",
      "2. **Find the Number:**\n",
      "   \n",
      "   Let's find \\( y \\) such that when you square it, you get 144.\n",
      "   \n",
      "   \\[\n",
      "   12 \\times 12 = 144\n",
      "   \\]\n",
      "   \n",
      "   Therefore:\n",
      "   \\[\n",
      "   y = 12\n",
      "   \\]\n",
      "\n",
      "3. **Final Answer:**\n",
      "   \n",
      "   \\[\n",
      "   \\boxed{12}\n",
      "   \\]<｜end▁of▁sentence｜>\n",
      "\n"
     ]
    },
    {
     "name": "stderr",
     "output_type": "stream",
     "text": [
      "  4%|▍         | 19/500 [00:01<00:41, 11.66it/s]\n",
      "All Prompts:   0%|          | 0/4 [00:22<?, ?it/s]"
     ]
    },
    {
     "name": "stdout",
     "output_type": "stream",
     "text": [
      "\n",
      "============================================================\n",
      "PROMPT [math] MODE=immediate_answer\n",
      "============================================================\n",
      "The square root of 144 is 12.\n",
      "\n",
      "$\\sqrt{144} = 12$<｜end▁of▁sentence｜>\n",
      "\n"
     ]
    },
    {
     "name": "stderr",
     "output_type": "stream",
     "text": [
      " 54%|█████▎    | 268/500 [00:21<00:19, 12.19it/s]\n",
      "All Prompts:  25%|██▌       | 1/4 [00:45<02:15, 45.05s/it]"
     ]
    },
    {
     "name": "stdout",
     "output_type": "stream",
     "text": [
      "\n",
      "============================================================\n",
      "PROMPT [math] MODE=reasoning_boosted\n",
      "============================================================\n",
      "To find the square root of 144, I will start by determining which number multiplied by itself equals 144.\n",
      "\n",
      "I know that 12 times 12 is 144, so 12 is a potential candidate.\n",
      "\n",
      "Additionally, (-12) multiplied by (-12) also results in 144. Therefore, both 12 and -12 are square roots of 144.\n",
      "\n",
      "There are no other integers that satisfy this condition, so the square roots of 144 are 12 and -12.\n",
      "</think>\n",
      "\n",
      "To find the square root of **144**, we need to identify a number that, when multiplied by itself, gives **144**.\n",
      "\n",
      "Let's denote the square root as \\( x \\). So, we ask the question:\n",
      "\n",
      "\\[\n",
      "x \\times x = 144\n",
      "\\]\n",
      "\n",
      "This simplifies to:\n",
      "\n",
      "\\[\n",
      "x^2 = 144\n",
      "\\]\n",
      "\n",
      "To solve for \\( x \\), we take the square root of both sides:\n",
      "\n",
      "\\[\n",
      "x = \\sqrt{144}\n",
      "\\]\n",
      "\n",
      "We know that:\n",
      "\n",
      "\\[\n",
      "12 \\times 12 = 144 \\quad \\text{and} \\quad (-12) \\times (-12) = 144\n",
      "\\]\n",
      "\n",
      "Therefore, the square roots of **144** are:\n",
      "\n",
      "\\[\n",
      "\\boxed{12 \\quad \\text{and} \\quad -12}\n",
      "\\]<｜end▁of▁sentence｜>\n",
      "\n"
     ]
    },
    {
     "name": "stderr",
     "output_type": "stream",
     "text": [
      " 39%|███▊      | 193/500 [00:15<00:25, 12.13it/s]\n",
      "All Prompts:  25%|██▌       | 1/4 [01:01<02:15, 45.05s/it]"
     ]
    },
    {
     "name": "stdout",
     "output_type": "stream",
     "text": [
      "\n",
      "============================================================\n",
      "PROMPT [math] MODE=base\n",
      "============================================================\n",
      "To solve the equation \\( x + 5 = 12 \\), I need to isolate the variable \\( x \\).\n",
      "\n",
      "First, I'll subtract 5 from both sides of the equation to eliminate the constant term on the left.\n",
      "\n",
      "This gives me \\( x = 12 - 5 \\).\n",
      "\n",
      "Finally, I'll compute \\( 12 - 5 \\) to find the value of \\( x \\), which is 7.\n",
      "</think>\n",
      "\n",
      "**Solution:**\n",
      "\n",
      "To find the value of \\( x \\) in the equation \\( x + 5 = 12 \\), follow these steps:\n",
      "\n",
      "1. **Subtract 5 from both sides** to isolate \\( x \\):\n",
      "   \n",
      "   \\[\n",
      "   x + 5 - 5 = 12 - 5\n",
      "   \\]\n",
      "\n",
      "2. **Simplify both sides**:\n",
      "   \n",
      "   \\[\n",
      "   x = 7\n",
      "   \\]\n",
      "\n",
      "**Final Answer:**\n",
      "\n",
      "\\[\n",
      "\\boxed{7}\n",
      "\\]<｜end▁of▁sentence｜>\n",
      "\n"
     ]
    },
    {
     "name": "stderr",
     "output_type": "stream",
     "text": [
      " 25%|██▌       | 126/500 [00:10<00:30, 12.22it/s]\n",
      "All Prompts:  25%|██▌       | 1/4 [01:11<02:15, 45.05s/it]"
     ]
    },
    {
     "name": "stdout",
     "output_type": "stream",
     "text": [
      "\n",
      "============================================================\n",
      "PROMPT [math] MODE=immediate_answer\n",
      "============================================================\n",
      "To find the value of \\( x \\) in the equation \\( x + 5 = 12 \\), follow these steps:\n",
      "\n",
      "1. **Understand the equation**:\n",
      "   \\[\n",
      "   x + 5 = 12\n",
      "   \\]\n",
      "   \n",
      "2. **Subtract 5 from both sides** to isolate \\( x \\):\n",
      "   \\[\n",
      "   x + 5 - 5 = 12 - 5\n",
      "   \\]\n",
      "   \n",
      "3. **Simplify the equation**:\n",
      "   \\[\n",
      "   x = 7\n",
      "   \\]\n",
      "   \n",
      "**Final Answer**:\n",
      "\\[\n",
      "\\boxed{7}\n",
      "\\]<｜end▁of▁sentence｜>\n",
      "\n"
     ]
    },
    {
     "name": "stderr",
     "output_type": "stream",
     "text": [
      " 44%|████▍     | 221/500 [00:18<00:23, 12.10it/s]\n",
      "All Prompts:  50%|█████     | 2/4 [01:30<01:30, 45.25s/it]"
     ]
    },
    {
     "name": "stdout",
     "output_type": "stream",
     "text": [
      "\n",
      "============================================================\n",
      "PROMPT [math] MODE=reasoning_boosted\n",
      "============================================================\n",
      "First, I recognize that I need to solve for \\( x \\) in the equation \\( x + 5 = 12 \\).\n",
      "\n",
      "To isolate \\( x \\), I'll start by subtracting 5 from both sides of the equation. This will eliminate the 5 on the left side.\n",
      "\n",
      "After subtracting 5, I'll be left with \\( x = 7 \\).\n",
      "\n",
      "Thus, the value of \\( x \\) is 7.\n",
      "</think>\n",
      "\n",
      "To find the value of \\( x \\) in the equation \\( x + 5 = 12 \\), follow these steps:\n",
      "\n",
      "1. **Start with the given equation:**\n",
      "   \\[\n",
      "   x + 5 = 12\n",
      "   \\]\n",
      "   \n",
      "2. **Subtract 5 from both sides to isolate \\( x \\):**\n",
      "   \\[\n",
      "   x + 5 - 5 = 12 - 5\n",
      "   \\]\n",
      "   Simplifying both sides:\n",
      "   \\[\n",
      "   x = 7\n",
      "   \\]\n",
      "\n",
      "3. **Final Answer:**\n",
      "   \\[\n",
      "   x = \\boxed{7}\n",
      "   \\]<｜end▁of▁sentence｜>\n",
      "\n"
     ]
    },
    {
     "name": "stderr",
     "output_type": "stream",
     "text": [
      " 78%|███████▊  | 391/500 [00:32<00:08, 12.18it/s]\n",
      "All Prompts:  50%|█████     | 2/4 [02:03<01:30, 45.25s/it]"
     ]
    },
    {
     "name": "stdout",
     "output_type": "stream",
     "text": [
      "\n",
      "============================================================\n",
      "PROMPT [math] MODE=base\n",
      "============================================================\n",
      "To find the integer whose square root is closest to 6.3, I start by squaring 6 and 7 to see which one gets me closer to 6.3 squared.\n",
      "\n",
      "First, I calculate 6 squared, which is 36, and 7 squared, which is 49. \n",
      "\n",
      "Next, I calculate 6.3 squared, which is 39.69. This falls between 36 and 49.\n",
      "\n",
      "Comparing the differences between 39.69 and 36, which is 3.69, and between 49 and 39.69, which is 9.31, I find that 3.69 is smaller than 9.31.\n",
      "\n",
      "Therefore, 6 is closer to 6.3 than 7 is, making 6 the integer whose square root is nearest to 6.3.\n",
      "</think>\n",
      "\n",
      "To determine which integer's square root is closest to **6.3**, we'll compare the squares of the integers around 6.3.\n",
      "\n",
      "Let's analyze the integers **6** and **7**:\n",
      "\n",
      "1. **Calculate their squares:**\n",
      "   - \\(6^2 = 36\\)\n",
      "   - \\(7^2 = 49\\)\n",
      "   \n",
      "2. **Compare with \\(6.3^2\\):**\n",
      "   - \\(6.3^2 = 6.3 \\times 6.3 = 39.69\\)\n",
      "\n",
      "Now, compare the differences between **39.69** and the squares of the integers:\n",
      "- **Difference with 6:** \\( |39.69 - 36| = 3.69\\)\n",
      "- **Difference with 7:** \\( |49 - 39.69| = 9.31\\)\n",
      "\n",
      "Since **3.69** (for 6) is less than **9.31** (for 7), the closest integer is **6**.\n",
      "\n",
      "\\[\\boxed{6}\\]<｜end▁of▁sentence｜>\n",
      "\n"
     ]
    },
    {
     "name": "stderr",
     "output_type": "stream",
     "text": [
      "100%|██████████| 500/500 [00:41<00:00, 12.19it/s]\n",
      "All Prompts:  50%|█████     | 2/4 [02:44<01:30, 45.25s/it]"
     ]
    },
    {
     "name": "stdout",
     "output_type": "stream",
     "text": [
      "\n",
      "============================================================\n",
      "PROMPT [math] MODE=immediate_answer\n",
      "============================================================\n",
      "To determine which integer's square root is closest to **6.3**, we'll analyze the integers around this value and their square roots.\n",
      "\n",
      "**Step 1: Understand the Problem**\n",
      "\n",
      "We need to find an integer \\( n \\) such that the square root of \\( n \\) is closest to **6.3**. Mathematically, we want:\n",
      "\\[ n = \\boxed{?} \\]\n",
      "and\n",
      "\\[ | \\sqrt{n} - 6.3 | \\approx \\text{minimum} \\]\n",
      "\n",
      "**Step 2: Estimate Possible Integers**\n",
      "\n",
      "Since we are dealing with square roots, let's consider integers near the square root of **6.3**. First, calculate \\( \\sqrt{6.3} \\).\n",
      "\n",
      "\\[ \\sqrt{6.3} \\approx 2.51 \\]\n",
      "\n",
      "So, we will check integers around **2.51**, specifically **2** and **3**, because these are the closest integers to **2.51**.\n",
      "\n",
      "**Step 3: Calculate Square Roots**\n",
      "\n",
      "1. **For \\( n = 2 \\):**\n",
      "   \\[ \\sqrt{2} \\approx 1.414 \\]\n",
      "2. **For \\( n = 3 \\):**\n",
      "   \\[ \\sqrt{3} \\approx 1.732 \\]\n",
      "\n",
      "**Step 4: Compare Differences**\n",
      "\n",
      "Calculate the absolute differences between **6.3** and the square roots of **2** and **3**.\n",
      "\n",
      "1. Difference with \\( n = 2 \\):\n",
      "   \\[ | \\sqrt{2} - 6.3 | \\approx | 1.414 - 6.3 | = 4.886 \\]\n",
      "   \n",
      "2. Difference with \\( n = 3 \\):\n",
      "   \\[ | \\sqrt{3} - 6.3 | \\approx | 1.732 - 6.3 | = 4.568 \\]\n",
      "\n",
      "**Step 5: Determine Which Integer is Closer**\n",
      "\n",
      "Compare the differences:\n",
      "- For \\( n = 2 \\): **4.886**\n",
      "- For \\( n = 3 \\): **4.568**\n",
      "\n",
      "Since **4.568** is less than **4.886**, \\( \\sqrt{3} \\) is closer to **6.3** than \\( \\sqrt{2} \\).\n",
      "\n",
      "**Conclusion:**\n",
      "\n",
      "The integer whose square root is closest to **6.3** is **3**.\n",
      "\n",
      "\\[\n",
      "\\boxed\n",
      "\n"
     ]
    },
    {
     "name": "stderr",
     "output_type": "stream",
     "text": [
      " 66%|██████▌   | 331/500 [00:27<00:14, 12.02it/s]\n",
      "All Prompts:  50%|█████     | 2/4 [03:12<03:12, 96.23s/it]\n"
     ]
    },
    {
     "ename": "FileNotFoundError",
     "evalue": "[Errno 2] No such file or directory: './test_data/math_22e0232680/reasoning_boosted_generation.txt'",
     "output_type": "error",
     "traceback": [
      "\u001b[0;31m---------------------------------------------------------------------------\u001b[0m",
      "\u001b[0;31mFileNotFoundError\u001b[0m                         Traceback (most recent call last)",
      "Cell \u001b[0;32mIn[4], line 1\u001b[0m\n\u001b[0;32m----> 1\u001b[0m \u001b[43mrun_experiments\u001b[49m\u001b[43m(\u001b[49m\n\u001b[1;32m      2\u001b[0m \u001b[43m    \u001b[49m\u001b[43mmodel\u001b[49m\u001b[43m,\u001b[49m\n\u001b[1;32m      3\u001b[0m \u001b[43m    \u001b[49m\u001b[43mprompts\u001b[49m\u001b[38;5;241;43m=\u001b[39;49m\u001b[43mprompt_list\u001b[49m\u001b[43m,\u001b[49m\n\u001b[1;32m      4\u001b[0m \u001b[43m    \u001b[49m\u001b[43msave_root\u001b[49m\u001b[38;5;241;43m=\u001b[39;49m\u001b[38;5;124;43m\"\u001b[39;49m\u001b[38;5;124;43m./test_data\u001b[39;49m\u001b[38;5;124;43m\"\u001b[39;49m\u001b[43m,\u001b[49m\n\u001b[1;32m      5\u001b[0m \u001b[43m    \u001b[49m\u001b[43mmax_new_tokens\u001b[49m\u001b[43m \u001b[49m\u001b[38;5;241;43m=\u001b[39;49m\u001b[43m \u001b[49m\u001b[38;5;241;43m500\u001b[39;49m\u001b[43m,\u001b[49m\n\u001b[1;32m      6\u001b[0m \u001b[43m    \u001b[49m\u001b[43mtemplate_modes\u001b[49m\u001b[43m \u001b[49m\u001b[38;5;241;43m=\u001b[39;49m\u001b[43m \u001b[49m\u001b[43m[\u001b[49m\u001b[38;5;124;43m\"\u001b[39;49m\u001b[38;5;124;43mbase\u001b[39;49m\u001b[38;5;124;43m\"\u001b[39;49m\u001b[43m,\u001b[49m\u001b[43m \u001b[49m\u001b[38;5;124;43m\"\u001b[39;49m\u001b[38;5;124;43mimmediate_answer\u001b[39;49m\u001b[38;5;124;43m\"\u001b[39;49m\u001b[43m,\u001b[49m\u001b[43m \u001b[49m\u001b[38;5;124;43m\"\u001b[39;49m\u001b[38;5;124;43mreasoning_boosted\u001b[39;49m\u001b[38;5;124;43m\"\u001b[39;49m\u001b[43m]\u001b[49m\n\u001b[1;32m      7\u001b[0m \u001b[43m)\u001b[49m\n",
      "File \u001b[0;32m~/reasoning_vector_research/residual_stream_collection_tools.py:171\u001b[0m, in \u001b[0;36mrun_experiments\u001b[0;34m(model, prompts, save_root, max_new_tokens, template_modes)\u001b[0m\n\u001b[1;32m    169\u001b[0m gen_ids \u001b[38;5;241m=\u001b[39m token_ids[prefix_len:]\n\u001b[1;32m    170\u001b[0m generation_txt \u001b[38;5;241m=\u001b[39m model\u001b[38;5;241m.\u001b[39mto_string(gen_ids)\n\u001b[0;32m--> 171\u001b[0m \u001b[38;5;28;01mwith\u001b[39;00m \u001b[38;5;28;43mopen\u001b[39;49m\u001b[43m(\u001b[49m\u001b[43mgeneration_path\u001b[49m\u001b[43m,\u001b[49m\u001b[43m \u001b[49m\u001b[38;5;124;43m\"\u001b[39;49m\u001b[38;5;124;43mw\u001b[39;49m\u001b[38;5;124;43m\"\u001b[39;49m\u001b[43m,\u001b[49m\u001b[43m \u001b[49m\u001b[43mencoding\u001b[49m\u001b[38;5;241;43m=\u001b[39;49m\u001b[38;5;124;43m\"\u001b[39;49m\u001b[38;5;124;43mutf-8\u001b[39;49m\u001b[38;5;124;43m\"\u001b[39;49m\u001b[43m)\u001b[49m \u001b[38;5;28;01mas\u001b[39;00m f:\n\u001b[1;32m    172\u001b[0m     f\u001b[38;5;241m.\u001b[39mwrite(\u001b[38;5;124mf\u001b[39m\u001b[38;5;124m\"\u001b[39m\u001b[38;5;132;01m{\u001b[39;00mfull_prompt\u001b[38;5;132;01m}\u001b[39;00m\u001b[38;5;132;01m{\u001b[39;00mgeneration_txt\u001b[38;5;132;01m}\u001b[39;00m\u001b[38;5;124m\"\u001b[39m)\n\u001b[1;32m    174\u001b[0m \u001b[38;5;66;03m# 4) Build metadata for each tensor row\u001b[39;00m\n",
      "\u001b[0;31mFileNotFoundError\u001b[0m: [Errno 2] No such file or directory: './test_data/math_22e0232680/reasoning_boosted_generation.txt'"
     ]
    }
   ],
   "source": [
    "run_experiments(\n",
    "    model,\n",
    "    prompts=prompt_list,\n",
    "    save_root=\"./test_data\",\n",
    "    max_new_tokens = 500,\n",
    "    template_modes = [\"base\", \"immediate_answer\", \"reasoning_boosted\"]\n",
    ")"
   ]
  },
  {
   "cell_type": "code",
   "execution_count": null,
   "metadata": {},
   "outputs": [],
   "source": []
  },
  {
   "cell_type": "code",
   "execution_count": 5,
   "metadata": {},
   "outputs": [],
   "source": [
    "input_ids = model.to_tokens(\"hi how are yuo today\")\n",
    "prefix_len = input_ids.shape[-1] "
   ]
  },
  {
   "cell_type": "code",
   "execution_count": 6,
   "metadata": {},
   "outputs": [
    {
     "data": {
      "text/plain": [
       "7"
      ]
     },
     "execution_count": 6,
     "metadata": {},
     "output_type": "execute_result"
    }
   ],
   "source": [
    "input_ids.shape[-1] "
   ]
  },
  {
   "cell_type": "code",
   "execution_count": 7,
   "metadata": {},
   "outputs": [
    {
     "data": {
      "text/plain": [
       "tensor([[128000,   6151,   1268,    527,    379,  24012,   3432]],\n",
       "       device='cuda:0')"
      ]
     },
     "execution_count": 7,
     "metadata": {},
     "output_type": "execute_result"
    }
   ],
   "source": [
    "input_ids"
   ]
  },
  {
   "cell_type": "code",
   "execution_count": 8,
   "metadata": {},
   "outputs": [
    {
     "data": {
      "text/plain": [
       "['\"']"
      ]
     },
     "execution_count": 8,
     "metadata": {},
     "output_type": "execute_result"
    }
   ],
   "source": [
    "model.to_str_tokens(torch.tensor(1))"
   ]
  },
  {
   "cell_type": "code",
   "execution_count": 9,
   "metadata": {},
   "outputs": [],
   "source": [
    "x = torch.load(\"/root/reasoning_vector_research/test_data/math_0c8c042f01/base.pt\")"
   ]
  },
  {
   "cell_type": "code",
   "execution_count": 10,
   "metadata": {},
   "outputs": [
    {
     "data": {
      "text/plain": [
       "torch.Size([397, 32, 4096])"
      ]
     },
     "execution_count": 10,
     "metadata": {},
     "output_type": "execute_result"
    }
   ],
   "source": [
    "x.shape"
   ]
  },
  {
   "cell_type": "code",
   "execution_count": 11,
   "metadata": {},
   "outputs": [
    {
     "data": {
      "text/plain": [
       "tensor([[128000, 128013]], device='cuda:0')"
      ]
     },
     "execution_count": 11,
     "metadata": {},
     "output_type": "execute_result"
    }
   ],
   "source": [
    "model.to_tokens(\"<think>\")"
   ]
  },
  {
   "cell_type": "code",
   "execution_count": 1,
   "metadata": {},
   "outputs": [],
   "source": [
    "import os"
   ]
  },
  {
   "cell_type": "code",
   "execution_count": 2,
   "metadata": {},
   "outputs": [
    {
     "name": "stdout",
     "output_type": "stream",
     "text": [
      " Volume in drive C is Local Disk\n",
      " Volume Serial Number is C0DD-116E\n",
      "\n",
      " Directory of c:\\Users\\durrc\\Desktop\\research\\reasoning_vector_research\n",
      "\n",
      "05/21/2025  06:04 PM    <DIR>          .\n",
      "05/21/2025  06:04 PM    <DIR>          ..\n",
      "05/21/2025  05:34 PM                55 .gitignore\n",
      "05/21/2025  05:34 PM               323 collect_residual_stream_data.py\n",
      "05/21/2025  05:34 PM               756 make_test_resid_data.ipynb\n",
      "05/21/2025  05:34 PM    <DIR>          mds\n",
      "05/21/2025  05:34 PM            26,538 patching_tools.py\n",
      "05/21/2025  05:34 PM             4,650 requirements.txt\n",
      "05/21/2025  05:34 PM    <DIR>          resid_comparisons\n",
      "05/21/2025  06:23 PM            18,412 resid_diff_tools.py\n",
      "05/21/2025  05:34 PM             8,605 residual_stream_collection_tools.py\n",
      "05/21/2025  05:34 PM            22,614 scratch_test.ipynb\n",
      "05/21/2025  05:34 PM            53,779 scratch_test_5_18_2025.ipynb\n",
      "05/21/2025  05:34 PM             4,559 setup.sh\n",
      "05/21/2025  06:07 PM    <DIR>          test_resid_data\n",
      "05/21/2025  05:34 PM             4,258 tl_tools.py\n",
      "05/21/2025  05:48 PM    <DIR>          venv\n",
      "              11 File(s)        144,549 bytes\n",
      "               6 Dir(s)  117,016,993,792 bytes free\n"
     ]
    }
   ],
   "source": [
    "ls"
   ]
  },
  {
   "cell_type": "code",
   "execution_count": 4,
   "metadata": {},
   "outputs": [
    {
     "data": {
      "text/plain": [
       "['math_1626eeyey', 'math_525252525']"
      ]
     },
     "execution_count": 4,
     "metadata": {},
     "output_type": "execute_result"
    }
   ],
   "source": [
    "os.listdir(\"test_resid_data\")"
   ]
  },
  {
   "cell_type": "code",
   "execution_count": 1,
   "metadata": {},
   "outputs": [
    {
     "ename": "ModuleNotFoundError",
     "evalue": "No module named 'torch'",
     "output_type": "error",
     "traceback": [
      "\u001b[31m---------------------------------------------------------------------------\u001b[39m",
      "\u001b[31mModuleNotFoundError\u001b[39m                       Traceback (most recent call last)",
      "\u001b[36mCell\u001b[39m\u001b[36m \u001b[39m\u001b[32mIn[1]\u001b[39m\u001b[32m, line 1\u001b[39m\n\u001b[32m----> \u001b[39m\u001b[32m1\u001b[39m \u001b[38;5;28;01mimport\u001b[39;00m\u001b[38;5;250m \u001b[39m\u001b[34;01mtorch\u001b[39;00m \n\u001b[32m      2\u001b[39m torch.load(\u001b[33m\"\u001b[39m\u001b[33mtest_resid_data/math_1626eeyey/base.pt\u001b[39m\u001b[33m\"\u001b[39m)\n",
      "\u001b[31mModuleNotFoundError\u001b[39m: No module named 'torch'"
     ]
    }
   ],
   "source": [
    "import torch \n",
    "torch.load(\"test_resid_data/math_1626eeyey/base.pt\")"
   ]
  },
  {
   "cell_type": "code",
   "execution_count": null,
   "metadata": {},
   "outputs": [],
   "source": []
  }
 ],
 "metadata": {
  "kernelspec": {
   "display_name": "Python 3",
   "language": "python",
   "name": "python3"
  },
  "language_info": {
   "codemirror_mode": {
    "name": "ipython",
    "version": 3
   },
   "file_extension": ".py",
   "mimetype": "text/x-python",
   "name": "python",
   "nbconvert_exporter": "python",
   "pygments_lexer": "ipython3",
   "version": "3.11.7"
  }
 },
 "nbformat": 4,
 "nbformat_minor": 2
}
